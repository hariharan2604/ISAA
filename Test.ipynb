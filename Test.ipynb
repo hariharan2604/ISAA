{
 "cells": [
  {
   "cell_type": "code",
   "execution_count": 1,
   "metadata": {
    "collapsed": true,
    "ExecuteTime": {
     "end_time": "2023-07-08T08:49:28.551188100Z",
     "start_time": "2023-07-08T08:49:28.459263600Z"
    }
   },
   "outputs": [
    {
     "ename": "IndentationError",
     "evalue": "expected an indented block after 'while' statement on line 4 (3357151546.py, line 5)",
     "output_type": "error",
     "traceback": [
      "\u001B[1;36m  Cell \u001B[1;32mIn[1], line 5\u001B[1;36m\u001B[0m\n\u001B[1;33m    prime_candidate = random.getrandbits(bit_length)\u001B[0m\n\u001B[1;37m    ^\u001B[0m\n\u001B[1;31mIndentationError\u001B[0m\u001B[1;31m:\u001B[0m expected an indented block after 'while' statement on line 4\n"
     ]
    }
   ],
   "source": [
    "import random\n",
    "import time\n",
    "def generate_prime_number(bit_length):\n",
    " while True:\n",
    " prime_candidate = random.getrandbits(bit_length)\n",
    " if is_prime(prime_candidate):\n",
    " return prime_candidate\n",
    "def is_prime(n, k=5):\n",
    " if n <= 3:\n",
    " return n == 2 or n == 3\n",
    " if n % 2 == 0:\n",
    " return False\n",
    " r, s = 0, n - 1\n",
    " while s % 2 == 0:\n",
    " r += 1\n",
    " s //= 2\n",
    " for _ in range(k):\n",
    " a = random.randrange(2, n - 1)\n",
    " x = pow(a, s, n)\n",
    " if x == 1 or x == n - 1:\n",
    " continue\n",
    " for _ in range(r - 1):\n",
    " x = pow(x, 2, n)\n",
    " if x == n - 1:\n",
    " break\n",
    " else:\n",
    " return False\n",
    " return True\n",
    "def generate_dh_key_pair(prime, generator):\n",
    " private_key = random.randint(2, prime - 2)\n",
    " public_key = pow(generator, private_key, prime)\n",
    " return private_key, public_key\n",
    "2\n",
    "def generate_shared_secret(private_key, other_public_key, prime):\n",
    " shared_secret = pow(other_public_key, private_key, prime)\n",
    " return shared_secret\n",
    "# Example usage\n",
    "bit_length = 1000 # Specify the desired bit length here\n",
    "start_time=time.time()\n",
    "# Generate prime number\n",
    "prime = generate_prime_number(bit_length)\n",
    "# Choose a generator (commonly 2 or 5)\n",
    "generator = random.randint(2, prime - 1)\n",
    "# Generate Diffie-Hellman key pair\n",
    "private_key, public_key = generate_dh_key_pair(prime, generator)\n",
    "# Example of other party's public key (pretending it was received)\n",
    "other_public_key = 123456789 # Replace with the actual other party's public key\n",
    "# Generate shared secret\n",
    "shared_secret = generate_shared_secret(private_key, other_public_key, prime)\n",
    "end_time=time.time()\n",
    "print(\"Prime:\", prime)\n",
    "print(\"Generator:\", generator)\n",
    "print(\"Private Key:\", private_key)\n",
    "print(\"Public Key:\", public_key)\n",
    "print(\"Shared Secret:\", shared_secret)\n",
    "print(\"Time taken\",end_time-start_time)"
   ]
  }
 ],
 "metadata": {
  "kernelspec": {
   "display_name": "Python 3",
   "language": "python",
   "name": "python3"
  },
  "language_info": {
   "codemirror_mode": {
    "name": "ipython",
    "version": 2
   },
   "file_extension": ".py",
   "mimetype": "text/x-python",
   "name": "python",
   "nbconvert_exporter": "python",
   "pygments_lexer": "ipython2",
   "version": "2.7.6"
  }
 },
 "nbformat": 4,
 "nbformat_minor": 0
}
